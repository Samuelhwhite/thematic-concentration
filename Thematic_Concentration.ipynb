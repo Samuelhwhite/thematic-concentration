{
  "nbformat": 4,
  "nbformat_minor": 0,
  "metadata": {
    "colab": {
      "name": "Thematic Concentration",
      "provenance": [],
      "collapsed_sections": []
    },
    "kernelspec": {
      "name": "python3",
      "display_name": "Python 3"
    },
    "accelerator": "GPU"
  },
  "cells": [
    {
      "cell_type": "markdown",
      "metadata": {
        "id": "IXBFlxhDJ_sB",
        "colab_type": "text"
      },
      "source": [
        "To make full use of this notebook, then go to: File > Save a copy in Drive...\n",
        "\n",
        "This will allow you to keep a version in your own Drive that you can work from, and is recommended. You can then close out the original tab and work on the copied version.\n",
        "\n",
        "To find where it's been copied to go: File > Locate in Drive"
      ]
    },
    {
      "cell_type": "markdown",
      "metadata": {
        "id": "wEk1OeTdIsxv",
        "colab_type": "text"
      },
      "source": [
        "# Thematic Concentration.\n",
        "\n",
        "Aim: Use Wang et Liu to compute the h-point for each select Trump speeches found here: https://github.com/unendin/Trump_Campaign_Corpus/tree/master/text\n",
        "\n",
        "\n",
        "## Setup of workbook:\n",
        "\n",
        "### 1. Set up workbook for maximum speed (GPU)\n",
        "### 2. Import necessary modules\n",
        "### 3. Load in the data\n",
        "### 4. Data-preprocessing \n",
        "### 5. Part-of-Speech tagging and lemmatisation\n",
        "### 6. Compute h-point"
      ]
    },
    {
      "cell_type": "markdown",
      "metadata": {
        "id": "lvOkR0PUJ05c",
        "colab_type": "text"
      },
      "source": [
        "### 1. Set up workbook:\n",
        "\n",
        "Google Colab generously gives you one GPU (graphics processing unit) to run computations on.\n",
        "A GPU is much quicker than a CPU, in that it can perform many more FLOPs (floating point operations [read \"calculations\"]) per second.\n",
        "\n",
        "To turn this feature on go to:\n",
        "Edit > Notebook Settings > Change the hardware accelerator to GPU"
      ]
    },
    {
      "cell_type": "code",
      "metadata": {
        "id": "qKjaCFf2IpZ9",
        "colab_type": "code",
        "outputId": "b5979783-b716-4582-d7c4-da3641df9a5e",
        "colab": {
          "base_uri": "https://localhost:8080/",
          "height": 83
        }
      },
      "source": [
        "import tensorflow as tf # Importing our first module (as below) but we need it \n",
        "                        # earlier to check whether we have the GPU running in the correct place!\n",
        "device_name = tf.test.gpu_device_name()\n",
        "if device_name != '/device:GPU:0':\n",
        "  raise SystemError('GPU device not found')\n",
        "print('Found GPU at: {}'.format(device_name)) "
      ],
      "execution_count": 0,
      "outputs": [
        {
          "output_type": "display_data",
          "data": {
            "text/html": [
              "<p style=\"color: red;\">\n",
              "The default version of TensorFlow in Colab will soon switch to TensorFlow 2.x.<br>\n",
              "We recommend you <a href=\"https://www.tensorflow.org/guide/migrate\" target=\"_blank\">upgrade</a> now \n",
              "or ensure your notebook will continue to use TensorFlow 1.x via the <code>%tensorflow_version 1.x</code> magic:\n",
              "<a href=\"https://colab.research.google.com/notebooks/tensorflow_version.ipynb\" target=\"_blank\">more info</a>.</p>\n"
            ],
            "text/plain": [
              "<IPython.core.display.HTML object>"
            ]
          },
          "metadata": {
            "tags": []
          }
        },
        {
          "output_type": "stream",
          "text": [
            "Found GPU at: /device:GPU:0\n"
          ],
          "name": "stdout"
        }
      ]
    },
    {
      "cell_type": "markdown",
      "metadata": {
        "id": "EuCaRsJSKOhf",
        "colab_type": "text"
      },
      "source": [
        "### 2. Import necessary modules"
      ]
    },
    {
      "cell_type": "code",
      "metadata": {
        "id": "5JHz6mYAKM_7",
        "colab_type": "code",
        "outputId": "9785621b-6437-4fe8-86cf-7dbc47e59517",
        "colab": {
          "base_uri": "https://localhost:8080/",
          "height": 310
        }
      },
      "source": [
        "import string\n",
        "import collections\n",
        "!pip install spacy\n",
        "import spacy"
      ],
      "execution_count": 0,
      "outputs": [
        {
          "output_type": "stream",
          "text": [
            "Requirement already satisfied: spacy in /usr/local/lib/python3.6/dist-packages (2.1.9)\n",
            "Requirement already satisfied: blis<0.3.0,>=0.2.2 in /usr/local/lib/python3.6/dist-packages (from spacy) (0.2.4)\n",
            "Requirement already satisfied: numpy>=1.15.0 in /usr/local/lib/python3.6/dist-packages (from spacy) (1.17.5)\n",
            "Requirement already satisfied: murmurhash<1.1.0,>=0.28.0 in /usr/local/lib/python3.6/dist-packages (from spacy) (1.0.2)\n",
            "Requirement already satisfied: thinc<7.1.0,>=7.0.8 in /usr/local/lib/python3.6/dist-packages (from spacy) (7.0.8)\n",
            "Requirement already satisfied: plac<1.0.0,>=0.9.6 in /usr/local/lib/python3.6/dist-packages (from spacy) (0.9.6)\n",
            "Requirement already satisfied: wasabi<1.1.0,>=0.2.0 in /usr/local/lib/python3.6/dist-packages (from spacy) (0.6.0)\n",
            "Requirement already satisfied: requests<3.0.0,>=2.13.0 in /usr/local/lib/python3.6/dist-packages (from spacy) (2.21.0)\n",
            "Requirement already satisfied: cymem<2.1.0,>=2.0.2 in /usr/local/lib/python3.6/dist-packages (from spacy) (2.0.3)\n",
            "Requirement already satisfied: preshed<2.1.0,>=2.0.1 in /usr/local/lib/python3.6/dist-packages (from spacy) (2.0.1)\n",
            "Requirement already satisfied: srsly<1.1.0,>=0.0.6 in /usr/local/lib/python3.6/dist-packages (from spacy) (1.0.1)\n",
            "Requirement already satisfied: tqdm<5.0.0,>=4.10.0 in /usr/local/lib/python3.6/dist-packages (from thinc<7.1.0,>=7.0.8->spacy) (4.28.1)\n",
            "Requirement already satisfied: idna<2.9,>=2.5 in /usr/local/lib/python3.6/dist-packages (from requests<3.0.0,>=2.13.0->spacy) (2.8)\n",
            "Requirement already satisfied: certifi>=2017.4.17 in /usr/local/lib/python3.6/dist-packages (from requests<3.0.0,>=2.13.0->spacy) (2019.11.28)\n",
            "Requirement already satisfied: chardet<3.1.0,>=3.0.2 in /usr/local/lib/python3.6/dist-packages (from requests<3.0.0,>=2.13.0->spacy) (3.0.4)\n",
            "Requirement already satisfied: urllib3<1.25,>=1.21.1 in /usr/local/lib/python3.6/dist-packages (from requests<3.0.0,>=2.13.0->spacy) (1.24.3)\n"
          ],
          "name": "stdout"
        }
      ]
    },
    {
      "cell_type": "markdown",
      "metadata": {
        "id": "K34RQjQCKZSL",
        "colab_type": "text"
      },
      "source": [
        "### 3. Load in the data"
      ]
    },
    {
      "cell_type": "code",
      "metadata": {
        "id": "HaeRsCzbKbtx",
        "colab_type": "code",
        "outputId": "1165ca6c-6d57-4338-c30e-7715addf3036",
        "colab": {
          "base_uri": "https://localhost:8080/",
          "height": 129
        }
      },
      "source": [
        "from google.colab import drive\n",
        "drive.mount('/content/drive')   # Run this code and follow the instructions to mount your drive"
      ],
      "execution_count": 0,
      "outputs": [
        {
          "output_type": "stream",
          "text": [
            "Go to this URL in a browser: https://accounts.google.com/o/oauth2/auth?client_id=947318989803-6bn6qk8qdgf4n4g3pfee6491hc0brc4i.apps.googleusercontent.com&redirect_uri=urn%3aietf%3awg%3aoauth%3a2.0%3aoob&response_type=code&scope=email%20https%3a%2f%2fwww.googleapis.com%2fauth%2fdocs.test%20https%3a%2f%2fwww.googleapis.com%2fauth%2fdrive%20https%3a%2f%2fwww.googleapis.com%2fauth%2fdrive.photos.readonly%20https%3a%2f%2fwww.googleapis.com%2fauth%2fpeopleapi.readonly\n",
            "\n",
            "Enter your authorization code:\n",
            "··········\n",
            "Mounted at /content/drive\n"
          ],
          "name": "stdout"
        }
      ]
    },
    {
      "cell_type": "code",
      "metadata": {
        "id": "Gdl9GfjcKnww",
        "colab_type": "code",
        "colab": {}
      },
      "source": [
        "text_path = 'drive/My Drive/Colab Notebooks/Deep Learning/OSGD Workbooks/Katy Tur.txt' # replace this with where you've saved the text file in Drive"
      ],
      "execution_count": 0,
      "outputs": []
    },
    {
      "cell_type": "code",
      "metadata": {
        "id": "DDnEdViBK1Mn",
        "colab_type": "code",
        "colab": {}
      },
      "source": [
        "def read_words(filename):\n",
        "    with open(filename, \"r\") as f:\n",
        "        sentences = []\n",
        "        for line in f:\n",
        "          sentences.append(line.strip())\n",
        "    return sentences\n",
        "\n",
        "speech = read_words(text_path) # import single speech as a list of line-by-line text"
      ],
      "execution_count": 0,
      "outputs": []
    },
    {
      "cell_type": "markdown",
      "metadata": {
        "id": "fcleD1b4Es2j",
        "colab_type": "text"
      },
      "source": [
        "### 4. Pre-process / clean the data\n",
        "\n",
        "Firstly we remove things not spoken by Donald (audience input etc.)\n",
        "\n",
        "Then we remove his introduction from each line he speaks, and turn the whole thing into lower case for ease of machine counting."
      ]
    },
    {
      "cell_type": "code",
      "metadata": {
        "id": "4TxnybP7LHmC",
        "colab_type": "code",
        "colab": {}
      },
      "source": [
        "def clean_line(line):\n",
        "  if ('LAUGHTER' in line) or ('APPLAUSE' in line) or ('UNIDENTIFIED' in line) or ('INAUDIBLE' in line) or ('CROSSTALK' in line) or ('PROTESTERS' in line):\n",
        "    return False\n",
        "  elif line == '':\n",
        "    return False\n",
        "  else:\n",
        "    return True\n",
        "\n",
        "def remove_donald_punc(line):\n",
        "  line = line.replace('\\'', \"'\")\n",
        "  line = line.lower()\n",
        "  line = line.split(':')\n",
        "\n",
        "  if len(line) != 2: # extract only pieces of text that Donald says\n",
        "    line = line[0]\n",
        "  else:\n",
        "    if line[0] == 'donald trump':\n",
        "      line = line[1]\n",
        "    else:\n",
        "      line = ''\n",
        "\n",
        "  return line"
      ],
      "execution_count": 0,
      "outputs": []
    },
    {
      "cell_type": "code",
      "metadata": {
        "id": "Io8Mw-vKQhbs",
        "colab_type": "code",
        "outputId": "21b700ca-4d28-40e8-f129-906c2631a816",
        "colab": {
          "base_uri": "https://localhost:8080/",
          "height": 220
        }
      },
      "source": [
        "cleaned1 = [x for x in speech if clean_line(x) == True] # Remove audience participation etc. using function above\n",
        "cleaned2 = [remove_donald_punc(x) for x in cleaned1] # Remove all \"Donald Trump:\" intros\n",
        "cleaned2[0:10] # Print the result"
      ],
      "execution_count": 0,
      "outputs": [
        {
          "output_type": "execute_result",
          "data": {
            "text/plain": [
              "[\" oh, i've been to iowa many times. i've been to new hampshire many, many times. i love the people there and we've had tremendous success. we've had tremendous crowds.\",\n",
              " 'nobody gets as many standing ovations and, you know, i spent a lot of time out.',\n",
              " \"i was in south carolina recently and we're all over.\",\n",
              " \"i'm going -- this weekend, i'll be with clint eastwood in california. a tremendous group of people.\",\n",
              " \"i'm going to arizona this weekend. i'll be all over the place.\",\n",
              " \" because i'm doing television with you and i am up there actually a lot. and i watch them up there walking the streets, and it didn't mean anything. i was actually getting more news coverage than anybody else by far because i'm the one that brought up the whole situation and the whole mess with immigration and what the mexican government is doing to us.\",\n",
              " \"so, you know, i didn't have to be and i would have been if they wanted me to. and i just decided that probably it wasn't necessary. i'm going up actually next week and i'll be in iowa many times over the next couple of months and new hampshire many, many times.\",\n",
              " ' legal immigrants.',\n",
              " \" they didn't say that. if you read the article it really doesn't say that. in fact, the writer was very surprised that they weren't able to find anybody. we have a very strong system.\",\n",
              " \"i have a contractor, that's one of the biggest in the nation doing it. so far, they're doing a very job. they have a very strong verification system. and the whole story was about, you know, they thought they were going to find people and they weren't able to find --\"]"
            ]
          },
          "metadata": {
            "tags": []
          },
          "execution_count": 8
        }
      ]
    },
    {
      "cell_type": "code",
      "metadata": {
        "id": "kCGq2pQtRODm",
        "colab_type": "code",
        "outputId": "8481bdeb-9530-4ea5-e120-020ed3b9df1b",
        "colab": {
          "base_uri": "https://localhost:8080/",
          "height": 55
        }
      },
      "source": [
        "# Convert back into one long sting of text:\n",
        "\n",
        "full_text = '' \n",
        "for i in range(len(cleaned2)):\n",
        "  full_text = full_text + ' ' + cleaned2[i]\n",
        "\n",
        "full_text # Show result."
      ],
      "execution_count": 0,
      "outputs": [
        {
          "output_type": "execute_result",
          "data": {
            "text/plain": [
              "'  oh, i\\'ve been to iowa many times. i\\'ve been to new hampshire many, many times. i love the people there and we\\'ve had tremendous success. we\\'ve had tremendous crowds. nobody gets as many standing ovations and, you know, i spent a lot of time out. i was in south carolina recently and we\\'re all over. i\\'m going -- this weekend, i\\'ll be with clint eastwood in california. a tremendous group of people. i\\'m going to arizona this weekend. i\\'ll be all over the place.  because i\\'m doing television with you and i am up there actually a lot. and i watch them up there walking the streets, and it didn\\'t mean anything. i was actually getting more news coverage than anybody else by far because i\\'m the one that brought up the whole situation and the whole mess with immigration and what the mexican government is doing to us. so, you know, i didn\\'t have to be and i would have been if they wanted me to. and i just decided that probably it wasn\\'t necessary. i\\'m going up actually next week and i\\'ll be in iowa many times over the next couple of months and new hampshire many, many times.  legal immigrants.  they didn\\'t say that. if you read the article it really doesn\\'t say that. in fact, the writer was very surprised that they weren\\'t able to find anybody. we have a very strong system. i have a contractor, that\\'s one of the biggest in the nation doing it. so far, they\\'re doing a very job. they have a very strong verification system. and the whole story was about, you know, they thought they were going to find people and they weren\\'t able to find --  well, they certainly didn\\'t write them down and write their names and we\\'re very strong on that. and, you know, with 11 million to 31 million illegal immigrants in the country, it\\'s pretty hard to be in a position where you actually can\\'t find anybody. that\\'s going to be a fantastic job. that was sitting there for years, like 30 years, empty, vacant, a disastrous situation. i took it over. we\\'re going to have one of the great hotels of the world. we\\'re also very proud of the building and the building practices.  no. i was totally misquoted. i could read. i could give you a copy of the speech. i could read it to you. i was so misquoted that it\\'s incredible. i\\'m talking about the mexican government forces many bad people into our country because they\\'re smart. they\\'re smarter than our leaders and their negotiators are far better than what we have, to a degree that you wouldn\\'t believe. they\\'re forcing people into our country. this guy that killed the wonderful young woman from san francisco, he went back to mexico, they forced him out. they forced people into our country. and they are drug dealers and they are criminals of all kinds. we are taking mexico\\'s problems. mexico is beating us on trade and beating us at the border. but mexico doesn\\'t want to take these people. so, what do they do? they send them to our stupid politicians and we have sanctuary cities and all of this nonsense. i\\'ve been saying this a long time, katy, and it is a disgrace. and, frankly, if i didn\\'t bring it up, you wouldn\\'t even be talking about immigration right now.  i\\'ve been to the border three or four times over the years. and i have many people that live around the area. i\\'m going to arizona this weekend where they want to talk to me because arizona is -- somebody said i\\'m the most popular person in arizona because of my stance. and i\\'m going to be there this weekend.  probably three years ago.   because i knew it was bad then and it is worse now. it was terrible then and it\\'s worse now. it\\'s worse now than it\\'s ever been. we don\\'t even have a border. people are just flowing through like water. there was no border right now.   don\\'t try to convince me that there is no crime, that it\\'s wonderful. the people that are being forced in, and these aren\\'t just mexican people. the people being forced, mexico doesn\\'t want people. they are forcing them into our country. and we\\'re taking them and we\\'re putting them in our jails and our hospitals and we\\'re paying them money through different sources. it is a disgrace. don\\'t tell me about safety. are you trying to justify safety on the border? i don\\'t think so.   it\\'s a wrong statistic. go check your numbers. it\\'s totally wrong. it sounds good.   it sounds good. it\\'s a wrong statistic. check your numbers.   and by the way, i\\'m not -- i have great relationship with the mexican people. i have many people working for me. you can look at the job in washington. i have many legal immigrants working for me. many of them come from mexico. they love me. i love them. and i\\'ll tell you something. if i get the nomination, i\\'ll win the latino vote. i will win it, because i\\'m going to create jobs. hillary clinton is not going to be able to create jobs, i will tell you right now. neither is jeb bush going to create jobs. i will create jobs and the latinos will have jobs they don\\'t have right now. and i will win that vote, and everyone thinks, oh, gee, trump is going to not do well with that vote. i\\'ll do better with vote than anybody. i have thousands of them working for me in different places that i have all over the country. i will win that vote.   well, i don\\'t know. according to you it\\'s not true. i don\\'t know.   you know, if you believe that, it\\'s fine. i don\\'t care. it\\'s an old subject. i\\'m about jobs, i\\'m about security, i\\'m about fixing the military, i\\'m about taking care of our vets. i\\'m about things that you don\\'t to have bring up old subjects. whether he did or not, who knows? a lot of people don\\'t agree with you on that, by the way. but i\\'m really about economic development and i\\'m about jobs. that\\'s what we have to start talking about. and i\\'m about beating isis militarily and not acting like a bunch of babies like we\\'re acting right now.   i do have a plan actually.   i would knock the hell out of oil areas because they\\'re rich as can be. they\\'re building a hotel in iraq. they took over a hotel. they\\'re renovating a hotel in iraq. they\\'re renovating another hotel in a different location. they have nothing but money. it is coming out of their ears and they\\'re getting most of their money from oil.   and if you remember -- excuse me, katy -- if you remember, number one, i said you shouldn\\'t go into iraq any way because you\\'re going to destabilize the middle east, that\\'s exactly what happened. then i said, once you\\'re in, if you\\'re leaving, keep the oil. well, isis has the oil. and iran has the oil. if they would have listened to me, and i was very strong. the bush people in 2004 sent people to my office because they didn\\'t want me to say what i was saying. and i\\'m more into the military, by the way, than anybody. but you have to know when and where to use the military. we made a tremendous mistake. we spent $2 trillion, thousands of lives, wounded warriors all over the place, who i love, by the way, all over the place. and what do we have? we\\'re not even there anymore. and iran is taking over iraq. in fact, they\\'re meeting right now. iran is taking over iraq. we got nothing for it. zero. and it is really a sad situation. with isis, you kill them at the head. you take the oil. that\\'s where they\\'re getting their money. if you bomb the hell out of it, you bomb the hell out of it. you\\'ve got to stop their wealth. they have tremendous wealth.   i\\'m talking about oil. i\\'m talking about oil areas. i\\'m not talking about civilian areas.   oh, give me a break, katy. go ahead. next question.   you have a lot of people that are killed by guns. but i\\'m a big second amendment person. you know, when the prisoners escaped up in new york, which was a tragedy in itself, people that were against guns said, thank god we have guns. i remember seeing on television a woman saying, i was always fighting with my husband. he wanted guns. he felt so strongly about guns and i would fight him. now, we have a gun on drawer, a gun in every table in case these guys broke into this house. it\\'s very interesting. no, i\\'m a second amendment person.   they\\'re sick people. those are very, very sick people. they\\'ll be able to get something somewhere.   i\\'m concerned about everything. i\\'m concerned about the country. our country is going to hell. i\\'m concerned about everything, ok? our country is being beaten in trade deals by china, by japan, by mexico. mexico is the new china. mexico is killing us in trade. we\\'re being beaten at every front. we\\'re being beaten militarily. we have a military that every time we send equipment to our so-called allies, one bullet is shot in the air. we lost 2,300 armor-plated humvees, not two or three or seven. we lost 2,000 -- in one day, 2,300 humvees. i say, that\\'s impossible. how can you lose that many? a bullet gets fired into the air and the people that we\\'re giving these humvees to, they run like bandits and the enemy takes them over. the enemy has better equipment than we have because we\\'re foolish.   i have the license to have a gun. yes, i do.   yes, i do.   that\\'s none of your business. it\\'s really none of your business. i have a license to have a gun.   what are you talking about?   yes, i have a gun. excuse me, yes, i have a gun and yes, i have a permit to have a gun.   the problem is once you get into that, you start getting into a situation, the slippery slope where all of a sudden, you\\'re going to violate the second amendment. i don\\'t want to do anything on violate the second amendment. to me, the second amendment is very important.   well, charles krauthammer is a totally overrated person, who really dislikes personally. i never met him. i mean, he is a totally overrated guy, doesn\\'t know what he\\'s doing. he was in favor of the war in iraq. he wanted to go into iraq and he wanted to stay there forever. so, you know, these are overrated people. i see who it is. you can mention name after name. by the way, are you going to mention the ones that do like trump? you don\\'t do that, do you?   if i\\'m a failed man, i\\'m worth a fortune. i built -- you know, what\\'s interesting? i went to best school, got the best, great marks, everything else. i went out and made a fortune, a big fortune, tremendous fortune. i\\'ll be announcing that in about a week because i have to file my papers, bigger than people even understand. i have a book called \"the art of the deal\". i do the apprentice. \"the art of the deal\" was like the number one business book of all time, or just about. i think it was. and i do the apprentice and nbc is angry at me because they renew the apprentice and i wouldn\\'t do it, and that\\'s one of the reasons that nbc is so angry with me. and then i get called by a guy that can\\'t buy a pair of pants, i get called names. give me a break.   yes. i think we\\'re going to have it on time. in fact --   excuse me, excuse me. i\\'m allowed a 45-day extension and another 45-day extension. i don\\'t expect to be using the extensions. you know, on time is really not on time, because you\\'re allowed automatically two 45-day extensions. i don\\'t think i\\'m going to be using them. i should be filing. they\\'re very complicated. you know, these papers were not meant for me because of the complexity and the bigness of what i have. but we should be releasing them ahead of schedule.   i made it the old-fashioned way, in real estate, in real estate. i made a lot of money doing everything i did. i made a lot of money with the apprentice. i made a lot of money in real estate. i made a lot of money -- everything i did. i\\'ve had great success.  now, i\\'m not concerned. let me tell you what\\'s worth. if it weren\\'t for immigration, ok, you wouldn\\'t even hear the word immigration if it wasn\\'t for donald trump. immigration is a word. illegal immigration, i brought up the whole subject up. in fact, your friends at fox gave great credit for that the other day. they said, if it wasn\\'t for donald trump, we wouldn\\'t even be talking about illegal immigration or even immigration right now. and i\\'ve been given -- and then you had the horrible tragedy in san francisco with the young woman who was shot with a person that should have never been here. now, this is too important. yes, i\\'m losing some contracts. who cares? people politically, they are weak and they want to be politically correct. some of them have already apologized to me. they made a mistake. and you know what? that\\'s fine, because compared to what i have. first of all, my company is a massive company and it\\'s a very rich company. but compared to what i have, it doesn\\'t matter. most importantly -- even if it was a huge amount of money, i would still do this. now, when people run for -- as an example, when these people are running for president, they don\\'t lose anything. a politician doesn\\'t lose anything when he or she runs for president. they run, they lose, they win, they don\\'t lose anything. when i run, as a successful person, i lose a tremendous amount. i mean, the kind of money that i lose on all these deals that you\\'re reading about, now, a lot of them are blown out of proportion, like they had espn. espn said, do you know what it was? it was a ballroom evening. an evening in a ballroom, that\\'s already replaced. they have nascar left. that was another thing. i guess espn maybe was a little golf tournament. nascar was a ballroom, it was a banquet. they make it a tremendous deal.   katy, let me just say, the press is very, very dishonest. and i think people are wiser than the press.   because i want to make america great again. honestly, very simple, our country is in trouble. we owe $18 trillion going up to $21 trillion very soon. once we\\'re $24 trillion, we are greece. we are greece on steroids. we are large scale version. i want to make our country great again. we have the potential to have that great spirit that we once had. we don\\'t have it anymore. our country is a mess.   george will is another one. he was in mar-a-lago years ago. he spoke. i didn\\'t want to listen to him speak and he\\'s never forgiven me for the fact that i didn\\'t show up, because i find him to a very boring guy. so, why do i want to listen to george will for? i listen to the people. i get the biggest crowds, i get the biggest standing ovations, and i guess you see it in the poll numbers. and i don\\'t even care about it. look, maybe i\\'m wasting my time and it costs me some money in terms of some deals. the big money is the opportunity, because while i\\'m wasting time talking to you, which is, you know, essentially one sided, but that\\'s fine. but while i\\'m wasting time talking to you, i could be doing deals on other things, so i\\'m losing out on hundreds of millions of dollars. nobody else loses. when they run for office, they don\\'t lose. a politician doesn\\'t lose. i do lose. but i want to make -- i mean, just to answer the question. i\\'m running because i want to make our country great again.   well, on fox, they say that i did a great service, because i\\'m the one that brought up the whole discussion on immigration and i think i\\'m helping the party greatly. and i actually think that -- if you look at mitt romney, who was a great disappointment because he ran a terrible campaign and especially in the last month, he totally collapsed, he choked. something happened to him but he choked, pure and simple. if you look at him, many of the conservative republicans just stayed home. they didn\\'t want to do anything. i mean, they stayed home, they didn\\'t vote for him. if those people got out and voted, he would have won. but you had a lot of republicans and conservative republicans stay home because they weren\\'t energized.  let me tell but the latino vote. i will win the latino vote because i\\'m going to put them to work. i\\'m going to be able to get jobs. i will take jobs back from china, i\\'ll take jobs back from japan, where they\\'re making so many cars -- i mean, millions and millions of cars. what do we get? we send very little to japan by comparison. i\\'ll take jobs back from mexico. mexico is going to become the car capital of the world the way they\\'re building. ford is now building a $2.5 billion plant, $2.5 billion in mexico. they\\'re going to sell cars in the united states and parts and trucks in the united states. excuse me, how does that help us? in tennessee, they just lost a plan that was going to be built in tennessee. it went to mexico. so, mexico is going to take care of their people because as i said before, their leaders are smarter than our leaders and their negotiators are far better. and that will never happen if i\\'m president.   not a misquote. no, it was --  no, there\\'s nothing to apologize for. there\\'s nothing to apologize for. read my statement. my statement is referring to mexico and they\\'re pushing a lot of bad people into our country and we\\'re taking care of a lot of criminals that shouldn\\'t be in our country. and you saw that the other day in san francisco. we\\'re taking care of these people. when people read my quote, they say, oh, it\\'s sort of interesting. i made my presidential announcement right here in this building. i made it. everybody gave me great reviews -- some great, great reviews, some good reviews. it wasn\\'t until a week later that people started criticizing that one statement. and i\\'m referring to mexico. i have great respect for the country of mexico. i love the mexican people and their spirit. but the country of mexico is killing us. the country of mexico is taking our jobs. they\\'re killing us at the border. they\\'re taking advantage of the fact that we have stupid negotiators. we have very stupid people in our country negotiating for us. and we have leaders that don\\'t know what they\\'re doing. so, i respect that. i\\'m not angry at mexico. i\\'m angry at our leadership for not putting our right people to negotiate.   because china so manipulates their currency that it\\'s very hard to find companies that can do business in the united states.   excuse me, because i\\'m a businessman. let me just tell you something and it\\'s very interesting. you\\'re not bringing anything new. you\\'re acting like you\\'re the great reporter, blah blah blah. you\\'re not bringing -- every speech i make, i talk about i always hate that i have to have my ties made in china. and do you know why they\\'re made in china? because china manipulates their currency to such a degree. they just manipulated it again two weeks ago. i never thought i would see it so fast again and again. they\\'re taking our jobs, they\\'re taking our manufacturing, they\\'re destroying us. by the way, we\\'re rebuilding china. do you know what they do? they loan us back the money. we owe $1.4 trillion to china. so, they take our jobs, they take our manufacturing, and then they give us money and we have to pay them interest.   you take jobs back from china. you take jobs back from japan. you charge saudi arabia. saudi arabia makes a billion dollars a day. every time there\\'s -- if you think these people were after yemen, they\\'re not after yemen. they\\'re after the oil in saudi arabia. you take a look at that border. this was the country that barack obama said, oh, wow, we had a great victory in yemen. great victory, it\\'s all over. great victory, right? how is somebody like that going on negotiate with?   so, i will tell you this. i made a lot of money against china. i made a lot of money in all of these countries. i have great relationships with these countries. if you take a look at what is going on in terms of relationship with the united states, everybody hates us. hillary clinton was the worst secretary of tate in the history of the united states. hillary was the worst in the history of the united states. there has never been a secretary of state so bad as hillary. the world blew up around us. we lost everything including all relationships. there wasn\\'t one good thing that came out of that administration or her being secretary of state. i have great relationships. if you look at \"businessweek\" magazine, they did a story on the 10 things that china most wants. one of the 10 things, anything trump. anything trump. and i\\'m the toughest critic there is on china. people have to respect you.   i think she would be a terrible president. she was the worst secretary of state in the history of our nation. why would she be a good president? i think she would be a terrible president.   hillary is weak on immigration. i may be divisive on immigration, but she\\'s weak on immigration, which is far worse. hillary would let everybody come in -- killer, criminals, drug dealers, everybody. if you listen to hillary, everybody is going to be flowing through the nation. they are sort of now any way. but if you listen to hillary, she is so weak on immigration. we will have a crime wave like you\\'ve never seen before.   immigration is a very big topic. take a look at all the crime that\\'s being committed. go take a look at -- look, i\\'m going to arizona --   it depends on whose research.   don\\'t be naive. you\\'re a very naive person.   come on, try getting it out. try getting it out.   i mean, i don\\'t know if you\\'re going to put on this television, but you don\\'t even know what you\\'re talking about. try getting it out. go ahead.   you know what, number one, i disagree with it, and number two, whether it is true or not, illegal immigrants -- i\\'m talking about illegal immigrants. i\\'m talking about illegal. i\\'m an immigrant, you\\'re an immigrant, we\\'re all immigrants...   i\\'m talking about illegal immigrants are causing tremendous crime, tremendous crime. and nobody wants to talk about it. and that\\'s why fox, at least fox. and you won\\'t believe this perhaps, but at least fox is being honest because they\\'re now talking about it. and if i didn\\'t bring up the subject a number of weeks ago, we wouldn\\'t even be talking about illegal immigration right now.   i think that i would treat them probably -- i would have to tell them, you have to go back, i think.   i would probably tell them you have to go back. i mean, they\\'re illegal immigrants. i probably would say you have to go back. do i like doing that? no. i\\'m a nice person believe it or not. i mean, i have a heart. but i would probably tell them, you have to go back. look, we have anywhere 11 to 31 million -- our country doesn\\'t even know, can you believe the statistics are from 11 to 31 million illegal immigrants in our country. we don\\'t even know. ok, we don\\'t even know. nobody is able to tell me the number. it used to be 11 now. now they think it\\'s 31 million. nobody even knows. it is a very sad situation. but you have to create a strong border. and if i didn\\'t bring this up.   mexico.   only if i\\'m president.   because mexico is making a fortune off the united states. i would get them to pay for the wall. believe me they will pay for the wall.   and i watch all these pundits that don\\'t have brains, i watch all of them say, oh, trump can\\'t get them -- i built a great empire through a negotiation. you have to be able to negotiate. mexico is making a fortune off the united states, a fortune. in addition to sending a lot of people here, forcing, forcing, and i\\'m talking about their bad people. again, i love the mexican people. i love their spirit. many of them work for me right now. i respect mexico, but their leaders and their negotiators are too smart for our leaders and our negotiators?   i will make that wall impenetrable. impenetrable. you don\\'t have to worry about how high it will be and mexico will pay for that wall.   thank you very much.   thank you. a great honor. ok.   well, fun. it\\'s too bad that she mentions only the negatives, you don\\'t want to mention the positives.   what is it?   that question i can handle.  the way you put it, everything is so negative i\\'m not saying i\\'m drawing -- you\\'re saying i\\'m drawing them.   well, i\\'m actually number one in huffington post and some others and the new polls haven\\'t even come out yet.   because i tell truth. i say what\\'s happening. i made a tremendous fortune. and that\\'s the kind of mentality we need in this country. jeb bush will never take us to the promise land. he doesn\\'t have it. hillary will never take us to the promised land. hillary will be a disaster as a president. jeb will be very poor as a president. no energy. we need somebody that can make great deals with china, with japan, with mexico. we need somebody that really understands and cherishes the military. i actually think i\\'ll be the jobs president, but i actually think i\\'ll be actually even better in term of the military. i will create military where nobody is going to mess around with the united states.   no. i think it\\'s the fact that i say things that people agree with.   people like what i say, they agree with what i say. i have had tremendous success. if i didn\\'t have the success, i think it wouldn\\'t be the same thing. i\\'ve had tremendous success. they understand i\\'ve had tremendous success and they respect me. and what i\\'m telling -- i don\\'t need this. i don\\'t need this. what i\\'m doing this for the country. i want to make america great again. we have a last shot. if we keep going way it\\'s going, america is going to be permanently scarred.'"
            ]
          },
          "metadata": {
            "tags": []
          },
          "execution_count": 9
        }
      ]
    },
    {
      "cell_type": "markdown",
      "metadata": {
        "id": "8JTLMbDRFZpZ",
        "colab_type": "text"
      },
      "source": [
        "### 5. Part-of-Speech (POS) tagging and Lemmatisation\n",
        "\n",
        "Here we label things as noun, verb, adjective etc. (POS tagging, so we can extract themamtic words later).\n",
        "\n",
        "We also form the lemma of everything for more accurate frequency counting."
      ]
    },
    {
      "cell_type": "code",
      "metadata": {
        "id": "-YGSAZSbTYVw",
        "colab_type": "code",
        "colab": {}
      },
      "source": [
        "nlp = spacy.load(\"en_core_web_sm\") # using the spacy Python package we imported.\n",
        "doc = nlp(full_text) # convert to spacy format."
      ],
      "execution_count": 0,
      "outputs": []
    },
    {
      "cell_type": "code",
      "metadata": {
        "id": "9i0wKQ-LCmaz",
        "colab_type": "code",
        "colab": {}
      },
      "source": [
        "lem_pos = {}\n",
        "tokens =[]\n",
        "lemmas = []\n",
        "pos = []\n",
        "\n",
        "for token in doc:\n",
        "  lem_pos[token.lemma_] = token.pos_ # extract each word along with it's lemma and pos. into a dictionary\n",
        "  tokens.append(token.text) # extract list of the ordered words\n",
        "  lemmas.append(token.lemma_) # extract the lemma that each word maps to\n",
        "  pos.append(token.pos_) # extract their pos\n",
        "\n",
        "lemmas2 = []\n",
        "for i in range(len(lemmas)):\n",
        "  if pos[i] != 'SPACE' and pos[i] != 'PUNCT' and pos[i] != 'SYM' and pos[i] != 'NUM': # remove punctuation etc. from being considered as part of the h-point\n",
        "    lemmas2.append(lemmas[i])\n"
      ],
      "execution_count": 0,
      "outputs": []
    },
    {
      "cell_type": "code",
      "metadata": {
        "id": "mza8VjZFGqoT",
        "colab_type": "code",
        "outputId": "f6952745-e76a-4d46-9485-3dea6b6ad656",
        "colab": {
          "base_uri": "https://localhost:8080/",
          "height": 90
        }
      },
      "source": [
        "print(len(tokens))\n",
        "print(len(lemmas))\n",
        "print(len(pos))\n",
        "print(len(lemmas2))"
      ],
      "execution_count": 0,
      "outputs": [
        {
          "output_type": "stream",
          "text": [
            "5758\n",
            "5758\n",
            "5758\n",
            "4834\n"
          ],
          "name": "stdout"
        }
      ]
    },
    {
      "cell_type": "markdown",
      "metadata": {
        "id": "zKMIPQNJIjzd",
        "colab_type": "text"
      },
      "source": [
        "### 6. Compute h-point\n",
        "\n",
        "- Gather frequencies\n",
        "- Rank frequencies\n",
        "- Calculate h-point\n",
        "- Return thematic words"
      ]
    },
    {
      "cell_type": "code",
      "metadata": {
        "id": "SD2HBd58HSfP",
        "colab_type": "code",
        "colab": {}
      },
      "source": [
        "def frequency_and_h(data): # function to return the frquency and rank of each lemma, as well as the h-point\n",
        "    \n",
        "  counter = collections.Counter(data)\n",
        "  count_pairs = sorted(counter.items(), key=lambda x: (-x[1], x[0])) # count the frequency of each lemma and return them in sorted order.\n",
        "\n",
        "  lem_freq_h = []\n",
        "  result = True # use booleans to stop the conditions applying beyond the h-point\n",
        "  cut = False\n",
        "  bigger = False\n",
        "\n",
        "  for i in range(len(count_pairs)-1):\n",
        "    ri = count_pairs[i]\n",
        "    item = (ri[0], ri[1], i+1) # put the rank next to each lemma\n",
        "    lem_freq_h.append(item)\n",
        "\n",
        "    if ri[1] == i+1 and result == True: # See if we have a frequency matching it's rank at any point.\n",
        "      cut = i+1\n",
        "      result = False\n",
        "\n",
        "    if ri[1] < i+1 and bigger == False: # if not, calculate the h point between the frequencies that straggle the point\n",
        "      ri_1 = count_pairs[i-1]\n",
        "      cut = (ri_1[1]*(i+1) - (i)*ri[1]) / (1 + ri_1[1] - ri[1]) # h-point formula from the paper\n",
        "      bigger = True\n",
        "\n",
        "  return lem_freq_h, cut"
      ],
      "execution_count": 0,
      "outputs": []
    },
    {
      "cell_type": "markdown",
      "metadata": {
        "id": "Sv7cVujKW6FR",
        "colab_type": "text"
      },
      "source": [
        "Now just to return thematic words:"
      ]
    },
    {
      "cell_type": "code",
      "metadata": {
        "id": "e9QB38XPKhXL",
        "colab_type": "code",
        "colab": {}
      },
      "source": [
        "def return_thematic(lemmas, lem_pos):\n",
        "\n",
        "  count_pairs, cut = frequency_and_h(lemmas) # using the function above to extract the h-point and the ordered lemmas.\n",
        "  print(\"h-point is: {}\".format(cut)) # print h-point\n",
        "  print('')\n",
        "\n",
        "  print('Words above h-point: (Word, Frequency, Rank): ')\n",
        "  for i in range(round(cut) + 1):\n",
        "    print(count_pairs[i]) # print words above the h point.\n",
        "\n",
        "  print('')\n",
        "  print('Thematic words (nouns and adjectives): ')\n",
        "  for i in range(round(cut) + 1):\n",
        "    lemma = count_pairs[i][0] # return those that are nouns\n",
        "    if lem_pos[lemma] == 'NOUN' or lem_pos[lemma] == 'ADJ':\n",
        "      print(lemma)\n",
        "\n",
        "  print('')\n",
        "  print('All nouns & adjectives by frequency/rank:')\n",
        "\n",
        "  for i in range(len(count_pairs)):\n",
        "    lemma = count_pairs[i][0] # return those that are nouns\n",
        "    if lem_pos[lemma] == 'NOUN' or lem_pos[lemma] == 'ADJ':\n",
        "      print(count_pairs[i])\n",
        "\n",
        "  print('')\n",
        "  print('Top 100 words by frequency:')\n",
        "  for i in range(100):\n",
        "    print(count_pairs[i])\n",
        "\n",
        "  print('')\n",
        "\n",
        "  return 'Done'\n",
        "\n"
      ],
      "execution_count": 0,
      "outputs": []
    },
    {
      "cell_type": "code",
      "metadata": {
        "id": "P7fWHfDFKpsb",
        "colab_type": "code",
        "outputId": "c536c814-460b-4d81-d2b4-bb3f96c144ca",
        "colab": {
          "base_uri": "https://localhost:8080/",
          "height": 1000
        }
      },
      "source": [
        "return_thematic(lemmas2, lem_pos)"
      ],
      "execution_count": 0,
      "outputs": [
        {
          "output_type": "stream",
          "text": [
            "h-point is: 26.5\n",
            "\n",
            "Words above h-point: (Word, Frequency, Rank): \n",
            "('-PRON-', 597, 1)\n",
            "('be', 360, 2)\n",
            "('i', 174, 3)\n",
            "('the', 166, 4)\n",
            "('a', 128, 5)\n",
            "('to', 127, 6)\n",
            "('and', 115, 7)\n",
            "('have', 105, 8)\n",
            "('not', 97, 9)\n",
            "('do', 89, 10)\n",
            "('that', 87, 11)\n",
            "('of', 82, 12)\n",
            "('in', 66, 13)\n",
            "('go', 48, 14)\n",
            "('people', 46, 15)\n",
            "('about', 36, 16)\n",
            "('will', 35, 17)\n",
            "('because', 31, 18)\n",
            "('if', 30, 19)\n",
            "('take', 30, 20)\n",
            "('know', 29, 21)\n",
            "('for', 28, 22)\n",
            "('make', 28, 23)\n",
            "('what', 28, 24)\n",
            "('on', 27, 25)\n",
            "('very', 27, 26)\n",
            "('country', 26, 27)\n",
            "\n",
            "Thematic words (nouns and adjectives): \n",
            "people\n",
            "country\n",
            "\n",
            "All nouns & adjectives by frequency/rank:\n",
            "('people', 46, 15)\n",
            "('country', 26, 27)\n",
            "('mexico', 26, 28)\n",
            "('great', 25, 30)\n",
            "('job', 20, 38)\n",
            "('many', 16, 46)\n",
            "('money', 16, 47)\n",
            "('time', 16, 48)\n",
            "('immigration', 15, 49)\n",
            "('lot', 15, 50)\n",
            "('china', 14, 54)\n",
            "('tremendous', 14, 55)\n",
            "('bad', 13, 56)\n",
            "('gun', 12, 62)\n",
            "('state', 12, 65)\n",
            "('way', 12, 66)\n",
            "('well', 12, 67)\n",
            "('immigrant', 11, 70)\n",
            "('hillary', 10, 73)\n",
            "('illegal', 10, 74)\n",
            "('number', 10, 77)\n",
            "('president', 10, 79)\n",
            "('anything', 9, 81)\n",
            "('oil', 9, 87)\n",
            "('united', 9, 89)\n",
            "('vote', 9, 90)\n",
            "('big', 8, 93)\n",
            "('border', 8, 94)\n",
            "('deal', 8, 95)\n",
            "('fortune', 8, 96)\n",
            "('person', 8, 98)\n",
            "('thing', 8, 99)\n",
            "('able', 7, 101)\n",
            "('care', 7, 102)\n",
            "('everything', 7, 103)\n",
            "('fact', 7, 104)\n",
            "('good', 7, 105)\n",
            "('iraq', 7, 106)\n",
            "('military', 7, 108)\n",
            "('trump', 7, 111)\n",
            "('leader', 6, 124)\n",
            "('mexican', 6, 126)\n",
            "('new', 6, 127)\n",
            "('nobody', 6, 128)\n",
            "('success', 6, 133)\n",
            "('amendment', 5, 135)\n",
            "('anybody', 5, 137)\n",
            "('crime', 5, 139)\n",
            "('everybody', 5, 142)\n",
            "('fox', 5, 144)\n",
            "('guy', 5, 145)\n",
            "('hotel', 5, 146)\n",
            "('japan', 5, 147)\n",
            "('negotiator', 5, 150)\n",
            "('relationship', 5, 153)\n",
            "('second', 5, 155)\n",
            "('situation', 5, 158)\n",
            "('strong', 5, 159)\n",
            "('week', 5, 162)\n",
            "('whole', 5, 163)\n",
            "('year', 5, 165)\n",
            "('angry', 4, 168)\n",
            "('apprentice', 4, 170)\n",
            "('area', 4, 171)\n",
            "('business', 4, 172)\n",
            "('car', 4, 174)\n",
            "('company', 4, 175)\n",
            "('concerned', 4, 176)\n",
            "('day', 4, 178)\n",
            "('extension', 4, 179)\n",
            "('interesting', 4, 183)\n",
            "('katy', 4, 184)\n",
            "('name', 4, 187)\n",
            "('nothing', 4, 189)\n",
            "('other', 4, 193)\n",
            "('place', 4, 194)\n",
            "('secretary', 4, 195)\n",
            "('smart', 4, 196)\n",
            "('somebody', 4, 197)\n",
            "('something', 4, 198)\n",
            "('subject', 4, 200)\n",
            "('terrible', 4, 201)\n",
            "('wall', 4, 204)\n",
            "('weak', 4, 205)\n",
            "('weekend', 4, 206)\n",
            "('america', 3, 211)\n",
            "('arabia', 3, 213)\n",
            "('ballroom', 3, 215)\n",
            "('break', 3, 217)\n",
            "('building', 3, 218)\n",
            "('bush', 3, 219)\n",
            "('criminal', 3, 220)\n",
            "('different', 3, 221)\n",
            "('estate', 3, 224)\n",
            "('fine', 3, 225)\n",
            "('francisco', 3, 226)\n",
            "('history', 3, 228)\n",
            "('humvee', 3, 230)\n",
            "('jeb', 3, 232)\n",
            "('kind', 3, 233)\n",
            "('latino', 3, 234)\n",
            "('nation', 3, 238)\n",
            "('next', 3, 239)\n",
            "('old', 3, 240)\n",
            "('overrated', 3, 241)\n",
            "('politician', 3, 242)\n",
            "('question', 3, 243)\n",
            "('real', 3, 244)\n",
            "('republican', 3, 246)\n",
            "('review', 3, 247)\n",
            "('saudi', 3, 249)\n",
            "('spirit', 3, 250)\n",
            "('statement', 3, 252)\n",
            "('statistic', 3, 253)\n",
            "('stupid', 3, 254)\n",
            "('television', 3, 255)\n",
            "('term', 3, 256)\n",
            "('trade', 3, 259)\n",
            "('victory', 3, 261)\n",
            "('woman', 3, 265)\n",
            "('world', 3, 266)\n",
            "('wrong', 3, 267)\n",
            "('yeman', 3, 268)\n",
            "('air', 2, 270)\n",
            "('amount', 2, 274)\n",
            "('art', 2, 277)\n",
            "('book', 2, 281)\n",
            "('bullet', 2, 282)\n",
            "('conservative', 2, 287)\n",
            "('crowd', 2, 288)\n",
            "('currency', 2, 289)\n",
            "('dealer', 2, 290)\n",
            "('degree', 2, 291)\n",
            "('disgrace', 2, 292)\n",
            "('dollar', 2, 293)\n",
            "('donald', 2, 294)\n",
            "('drug', 2, 296)\n",
            "('enemy', 2, 297)\n",
            "('equipment', 2, 298)\n",
            "('evening', 2, 299)\n",
            "('george', 2, 303)\n",
            "('government', 2, 304)\n",
            "('greece', 2, 305)\n",
            "('hampshire', 2, 307)\n",
            "('hard', 2, 308)\n",
            "('impenetrable', 2, 311)\n",
            "('important', 2, 312)\n",
            "('iowa', 2, 313)\n",
            "('isis', 2, 314)\n",
            "('land', 2, 316)\n",
            "('last', 2, 317)\n",
            "('least', 2, 318)\n",
            "('legal', 2, 320)\n",
            "('license', 2, 321)\n",
            "('little', 2, 322)\n",
            "('manufacturing', 2, 323)\n",
            "('misquote', 2, 327)\n",
            "('mistake', 2, 328)\n",
            "('month', 2, 329)\n",
            "('more', 2, 330)\n",
            "('naive', 2, 331)\n",
            "('nascar', 2, 332)\n",
            "('negative', 2, 334)\n",
            "('none', 2, 335)\n",
            "('office', 2, 337)\n",
            "('ovation', 2, 339)\n",
            "('paper', 2, 341)\n",
            "('plan', 2, 342)\n",
            "('poll', 2, 344)\n",
            "('press', 2, 345)\n",
            "('problem', 2, 346)\n",
            "('rich', 2, 350)\n",
            "('sad', 2, 351)\n",
            "('safety', 2, 352)\n",
            "('sick', 2, 354)\n",
            "('simple', 2, 355)\n",
            "('speech', 2, 359)\n",
            "('story', 2, 362)\n",
            "('system', 2, 363)\n",
            "('tennessee', 2, 364)\n",
            "('thousand', 2, 366)\n",
            "('tragedy', 2, 367)\n",
            "('true', 2, 368)\n",
            "('wealth', 2, 370)\n",
            "('wonderful', 2, 373)\n",
            "('word', 2, 374)\n",
            "('worth', 2, 375)\n",
            "('young', 2, 377)\n",
            "('addition', 1, 380)\n",
            "('administration', 1, 381)\n",
            "('advantage', 1, 382)\n",
            "('ally', 1, 383)\n",
            "('announcement', 1, 386)\n",
            "('armor', 1, 389)\n",
            "('article', 1, 390)\n",
            "('baby', 1, 392)\n",
            "('bandit', 1, 393)\n",
            "('banquet', 1, 394)\n",
            "('bigness', 1, 398)\n",
            "('boring', 1, 399)\n",
            "('brain', 1, 400)\n",
            "('bunch', 1, 401)\n",
            "('businessman', 1, 402)\n",
            "('businessweek', 1, 403)\n",
            "('california', 1, 405)\n",
            "('campaign', 1, 406)\n",
            "('capital', 1, 407)\n",
            "('carolina', 1, 408)\n",
            "('case', 1, 409)\n",
            "('charle', 1, 413)\n",
            "('city', 1, 415)\n",
            "('civilian', 1, 416)\n",
            "('clint', 1, 417)\n",
            "('comparison', 1, 420)\n",
            "('complexity', 1, 421)\n",
            "('complicated', 1, 422)\n",
            "('contract', 1, 423)\n",
            "('contractor', 1, 424)\n",
            "('copy', 1, 426)\n",
            "('correct', 1, 427)\n",
            "('couple', 1, 429)\n",
            "('coverage', 1, 430)\n",
            "('credit', 1, 431)\n",
            "('critic', 1, 432)\n",
            "('development', 1, 438)\n",
            "('disappointment', 1, 440)\n",
            "('disaster', 1, 441)\n",
            "('disastrous', 1, 442)\n",
            "('discussion', 1, 443)\n",
            "('dishonest', 1, 444)\n",
            "('divisive', 1, 446)\n",
            "('drawer', 1, 448)\n",
            "('ear', 1, 449)\n",
            "('east', 1, 450)\n",
            "('eastwood', 1, 451)\n",
            "('economic', 1, 452)\n",
            "('empire', 1, 453)\n",
            "('empty', 1, 454)\n",
            "('energy', 1, 456)\n",
            "('everyone', 1, 461)\n",
            "('example', 1, 463)\n",
            "('failed', 1, 465)\n",
            "('fantastic', 1, 466)\n",
            "('fashioned', 1, 467)\n",
            "('favor', 1, 469)\n",
            "('foolish', 1, 474)\n",
            "('ford', 1, 475)\n",
            "('friend', 1, 479)\n",
            "('front', 1, 480)\n",
            "('fun', 1, 481)\n",
            "('golf', 1, 484)\n",
            "('group', 1, 486)\n",
            "('head', 1, 488)\n",
            "('heart', 1, 490)\n",
            "('high', 1, 491)\n",
            "('honest', 1, 492)\n",
            "('honor', 1, 494)\n",
            "('horrible', 1, 495)\n",
            "('hospital', 1, 496)\n",
            "('house', 1, 497)\n",
            "('huffington', 1, 498)\n",
            "('huge', 1, 499)\n",
            "('hundred', 1, 500)\n",
            "('husband', 1, 501)\n",
            "('impossible', 1, 503)\n",
            "('incredible', 1, 505)\n",
            "('interest', 1, 506)\n",
            "('isi', 1, 507)\n",
            "('jail', 1, 508)\n",
            "('killer', 1, 510)\n",
            "('krauthammer', 1, 512)\n",
            "('lago', 1, 513)\n",
            "('large', 1, 514)\n",
            "('latinos', 1, 516)\n",
            "('leadership', 1, 517)\n",
            "('life', 1, 518)\n",
            "('location', 1, 521)\n",
            "('long', 1, 522)\n",
            "('magazine', 1, 523)\n",
            "('man', 1, 524)\n",
            "('mark', 1, 526)\n",
            "('massive', 1, 527)\n",
            "('mentality', 1, 530)\n",
            "('middle', 1, 531)\n",
            "('misquoted', 1, 532)\n",
            "('mitt', 1, 533)\n",
            "('necessary', 1, 535)\n",
            "('negotiation', 1, 536)\n",
            "('news', 1, 538)\n",
            "('nice', 1, 539)\n",
            "('nomination', 1, 540)\n",
            "('nonsense', 1, 541)\n",
            "('obama', 1, 542)\n",
            "('opportunity', 1, 543)\n",
            "('pair', 1, 544)\n",
            "('pant', 1, 545)\n",
            "('part', 1, 546)\n",
            "('party', 1, 547)\n",
            "('permit', 1, 550)\n",
            "('plant', 1, 552)\n",
            "('poor', 1, 554)\n",
            "('popular', 1, 555)\n",
            "('position', 1, 556)\n",
            "('positive', 1, 557)\n",
            "('post', 1, 558)\n",
            "('potential', 1, 559)\n",
            "('practice', 1, 560)\n",
            "('presidential', 1, 561)\n",
            "('prisoner', 1, 563)\n",
            "('proportion', 1, 564)\n",
            "('proud', 1, 565)\n",
            "('pundit', 1, 566)\n",
            "('pure', 1, 567)\n",
            "('reason', 1, 570)\n",
            "('reporter', 1, 576)\n",
            "('research', 1, 577)\n",
            "('romney', 1, 578)\n",
            "('same', 1, 579)\n",
            "('sanctuary', 1, 580)\n",
            "('scale', 1, 581)\n",
            "('schedule', 1, 583)\n",
            "('school', 1, 584)\n",
            "('security', 1, 585)\n",
            "('service', 1, 587)\n",
            "('shot', 1, 588)\n",
            "('slippery', 1, 592)\n",
            "('slope', 1, 593)\n",
            "('source', 1, 596)\n",
            "('south', 1, 597)\n",
            "('stance', 1, 598)\n",
            "('steroid', 1, 599)\n",
            "('street', 1, 602)\n",
            "('successful', 1, 604)\n",
            "('sudden', 1, 606)\n",
            "('surprised', 1, 607)\n",
            "('table', 1, 608)\n",
            "('tate', 1, 609)\n",
            "('tie', 1, 610)\n",
            "('topic', 1, 611)\n",
            "('tough', 1, 612)\n",
            "('tournament', 1, 613)\n",
            "('trouble', 1, 615)\n",
            "('truck', 1, 616)\n",
            "('truth', 1, 617)\n",
            "('vacant', 1, 619)\n",
            "('verification', 1, 620)\n",
            "('version', 1, 621)\n",
            "('vet', 1, 622)\n",
            "('war', 1, 624)\n",
            "('warrior', 1, 625)\n",
            "('washington', 1, 626)\n",
            "('water', 1, 627)\n",
            "('wave', 1, 628)\n",
            "('wise', 1, 630)\n",
            "('writer', 1, 634)\n",
            "\n",
            "Top 100 words by frequency:\n",
            "('-PRON-', 597, 1)\n",
            "('be', 360, 2)\n",
            "('i', 174, 3)\n",
            "('the', 166, 4)\n",
            "('a', 128, 5)\n",
            "('to', 127, 6)\n",
            "('and', 115, 7)\n",
            "('have', 105, 8)\n",
            "('not', 97, 9)\n",
            "('do', 89, 10)\n",
            "('that', 87, 11)\n",
            "('of', 82, 12)\n",
            "('in', 66, 13)\n",
            "('go', 48, 14)\n",
            "('people', 46, 15)\n",
            "('about', 36, 16)\n",
            "('will', 35, 17)\n",
            "('because', 31, 18)\n",
            "('if', 30, 19)\n",
            "('take', 30, 20)\n",
            "('know', 29, 21)\n",
            "('for', 28, 22)\n",
            "('make', 28, 23)\n",
            "('what', 28, 24)\n",
            "('on', 27, 25)\n",
            "('very', 27, 26)\n",
            "('country', 26, 27)\n",
            "('mexico', 26, 28)\n",
            "('say', 26, 29)\n",
            "('great', 25, 30)\n",
            "('get', 24, 31)\n",
            "('with', 24, 32)\n",
            "('would', 24, 33)\n",
            "('but', 22, 34)\n",
            "('now', 22, 35)\n",
            "('so', 21, 36)\n",
            "('want', 21, 37)\n",
            "('job', 20, 38)\n",
            "('talk', 20, 39)\n",
            "('think', 20, 40)\n",
            "('this', 20, 41)\n",
            "('all', 18, 42)\n",
            "('at', 18, 43)\n",
            "('even', 17, 44)\n",
            "('lose', 17, 45)\n",
            "('many', 16, 46)\n",
            "('money', 16, 47)\n",
            "('time', 16, 48)\n",
            "('immigration', 15, 49)\n",
            "('lot', 15, 50)\n",
            "('out', 15, 51)\n",
            "('there', 15, 52)\n",
            "('up', 15, 53)\n",
            "('china', 14, 54)\n",
            "('tremendous', 14, 55)\n",
            "('bad', 13, 56)\n",
            "('by', 13, 57)\n",
            "('like', 13, 58)\n",
            "('over', 13, 59)\n",
            "('tell', 13, 60)\n",
            "('these', 13, 61)\n",
            "('gun', 12, 62)\n",
            "('into', 12, 63)\n",
            "('right', 12, 64)\n",
            "('state', 12, 65)\n",
            "('way', 12, 66)\n",
            "('well', 12, 67)\n",
            "('back', 11, 68)\n",
            "('can', 11, 69)\n",
            "('immigrant', 11, 70)\n",
            "('look', 11, 71)\n",
            "('actually', 10, 72)\n",
            "('hillary', 10, 73)\n",
            "('illegal', 10, 74)\n",
            "('just', 10, 75)\n",
            "('mean', 10, 76)\n",
            "('number', 10, 77)\n",
            "('or', 10, 78)\n",
            "('president', 10, 79)\n",
            "('than', 10, 80)\n",
            "('anything', 9, 81)\n",
            "('bring', 9, 82)\n",
            "('force', 9, 83)\n",
            "('from', 9, 84)\n",
            "('never', 9, 85)\n",
            "('no', 9, 86)\n",
            "('oil', 9, 87)\n",
            "('run', 9, 88)\n",
            "('united', 9, 89)\n",
            "('vote', 9, 90)\n",
            "('again', 8, 91)\n",
            "('as', 8, 92)\n",
            "('big', 8, 93)\n",
            "('border', 8, 94)\n",
            "('deal', 8, 95)\n",
            "('fortune', 8, 96)\n",
            "('give', 8, 97)\n",
            "('person', 8, 98)\n",
            "('thing', 8, 99)\n",
            "('when', 8, 100)\n",
            "\n"
          ],
          "name": "stdout"
        },
        {
          "output_type": "execute_result",
          "data": {
            "text/plain": [
              "'Done'"
            ]
          },
          "metadata": {
            "tags": []
          },
          "execution_count": 15
        }
      ]
    },
    {
      "cell_type": "code",
      "metadata": {
        "id": "tDMcUMusQ1ia",
        "colab_type": "code",
        "colab": {}
      },
      "source": [
        ""
      ],
      "execution_count": 0,
      "outputs": []
    }
  ]
}